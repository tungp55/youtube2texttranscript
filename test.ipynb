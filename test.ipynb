{
 "cells": [
  {
   "cell_type": "code",
   "execution_count": 5,
   "metadata": {},
   "outputs": [
    {
     "name": "stdout",
     "output_type": "stream",
     "text": [
      "Collecting librosa\n",
      "  Using cached librosa-0.10.0.post2-py3-none-any.whl (253 kB)\n",
      "Requirement already satisfied: decorator>=4.3.0 in ./env/lib/python3.10/site-packages (from librosa) (4.4.2)\n",
      "Requirement already satisfied: numpy!=1.22.0,!=1.22.1,!=1.22.2,>=1.20.3 in ./env/lib/python3.10/site-packages (from librosa) (1.25.2)\n",
      "Collecting joblib>=0.14\n",
      "  Using cached joblib-1.3.1-py3-none-any.whl (301 kB)\n",
      "Collecting lazy-loader>=0.1\n",
      "  Using cached lazy_loader-0.3-py3-none-any.whl (9.1 kB)\n",
      "Collecting soxr>=0.3.2\n",
      "  Using cached soxr-0.3.5-cp310-cp310-manylinux_2_17_x86_64.manylinux2014_x86_64.whl (1.2 MB)\n",
      "^C\n",
      "\u001b[31mERROR: Operation cancelled by user\u001b[0m\u001b[31m\n",
      "\u001b[0m"
     ]
    }
   ],
   "source": [
    "#!pip install youtube_dl\n",
    "#!pip3 install --upgrade --force-reinstall \"git+https://github.com/ytdl-org/youtube-dl.git\"\n",
    "#!pip install librosa\n",
    "#!pip install pydub\n",
    "#!pip install pytube\n",
    "#!sudo apt install ffmpeg"
   ]
  },
  {
   "cell_type": "code",
   "execution_count": 3,
   "metadata": {},
   "outputs": [],
   "source": [
    "import youtube_dl\n",
    "import os\n",
    "def download_ytvid_as_mp3(video_url, output_path):\n",
    "    video_info = youtube_dl.YoutubeDL().extract_info(url=video_url, download=False)\n",
    "    filename = f\"{video_info['title']}.mp3\"\n",
    "    file_path = os.path.join(output_path, filename)\n",
    "\n",
    "    options = {\n",
    "        'format': 'bestaudio/best',\n",
    "        'keepvideo': False,\n",
    "        'outtmpl': file_path,\n",
    "    }\n",
    "\n",
    "    with youtube_dl.YoutubeDL(options) as ydl:\n",
    "        ydl.download([video_info['webpage_url']])\n",
    "\n",
    "    print(\"Download complete... {}\".format(filename))"
   ]
  },
  {
   "cell_type": "code",
   "execution_count": 9,
   "metadata": {},
   "outputs": [],
   "source": [
    "def download_ytvid_and_convert_to_wav(video_url, output_path):\n",
    "    video_info = youtube_dl.YoutubeDL().extract_info(url=video_url, download=False)\n",
    "    filename = f\"{video_info['title']}.mp3\"\n",
    "    mp3_file_path = os.path.join(output_path, filename)\n",
    "    \n",
    "    wav_filename = f\"{video_info['title']}.wav\"\n",
    "    wav_file_path = os.path.join(output_path, wav_filename)\n",
    "\n",
    "    options = {\n",
    "        'format': 'bestaudio/best',\n",
    "        'keepvideo': False,\n",
    "        'outtmpl': mp3_file_path,\n",
    "    }\n",
    "\n",
    "    with youtube_dl.YoutubeDL(options) as ydl:\n",
    "        ydl.download([video_info['webpage_url']])\n",
    "\n",
    "    # Load the MP3 file\n",
    "    y, sr = librosa.load(mp3_file_path, sr=None)\n",
    "\n",
    "    # Write the waveform to a WAV file\n",
    "    librosa.output.write_wav(wav_file_path, y, sr)\n",
    "\n",
    "    print(\"Download and conversion complete... {}\".format(wav_filename))\n"
   ]
  },
  {
   "cell_type": "code",
   "execution_count": 4,
   "metadata": {},
   "outputs": [],
   "source": [
    "import youtube_dl\n",
    "import os\n",
    "from datetime import datetime\n",
    "\n",
    "#  \n",
    "def download_ytvid_as_mp3_fix(video_url):\n",
    "    video_info = youtube_dl.YoutubeDL().extract_info(url=video_url, download=False)\n",
    "    title = video_info['title']\n",
    "    \n",
    "    # Tạo đường dẫn đến thư mục \"data\" nếu chưa tồn tại\n",
    "    data_dir = \"data\"\n",
    "    if not os.path.exists(data_dir):\n",
    "        os.makedirs(data_dir)\n",
    "\n",
    "    # Tạo tên thư mục con với ngày và giờ hiện tại\n",
    "    now = datetime.now()\n",
    "    subdir_name = now.strftime(\"%Y%m%d_%H%M%S\")\n",
    "    subdir_path = os.path.join(data_dir, subdir_name)\n",
    "    if not os.path.exists(subdir_path):\n",
    "        os.makedirs(subdir_path)\n",
    "\n",
    "    # Đặt tên tập tin MP3 dựa trên tiêu đề của video\n",
    "    filename = f\"{title}.mp3\"\n",
    "    file_path = os.path.join(subdir_path, filename)\n",
    "\n",
    "    options = {\n",
    "        'format': 'bestaudio/best',\n",
    "        'keepvideo': False,\n",
    "        'outtmpl': file_path,\n",
    "    }\n",
    "\n",
    "    with youtube_dl.YoutubeDL(options) as ydl:\n",
    "        ydl.download([video_info['webpage_url']])\n",
    "\n",
    "    print(f\"Download complete... {filename}\")\n"
   ]
  },
  {
   "cell_type": "code",
   "execution_count": 22,
   "metadata": {},
   "outputs": [
    {
     "name": "stdout",
     "output_type": "stream",
     "text": [
      "Number Of Videos In playlist: 2\n",
      "[youtube] mb_rU-dvK9E: Downloading webpage\n",
      "[youtube] mb_rU-dvK9E: Downloading player 4eae42b1\n",
      "[youtube] mb_rU-dvK9E: Downloading webpage\n",
      "[dashsegments] Total fragments: 2\n",
      "[download] Destination: mp3_down/Phong Thủy Năm 2019 Kỷ Hợi Cách Kích Hoạt Vận May Tài Lộc Và Hóa Sát Tránh Hung Hiệu Quả.mp3\n",
      "[download] 100% of 16.32MiB in 00:345.60KiB/s ETA 00:0030\n",
      "Download complete... Phong Thủy Năm 2019 Kỷ Hợi Cách Kích Hoạt Vận May Tài Lộc Và Hóa Sát Tránh Hung Hiệu Quả.mp3\n",
      "[youtube] 1WnU1mUdvsA: Downloading webpage\n",
      "[youtube] 1WnU1mUdvsA: Downloading webpage\n",
      "[dashsegments] Total fragments: 1\n",
      "[download] Destination: mp3_down/Hướng Dẫn Cách Làm Lễ Cúng Khi Xây Nhà Mới Chuẩn Phong Thủy (Động Thổ, Cất Nóc, Nhập Trạch).mp3\n",
      "[download] 100% of 7.78MiB in 00:173.85KiB/s ETA 00:0001\n",
      "Download complete... Hướng Dẫn Cách Làm Lễ Cúng Khi Xây Nhà Mới Chuẩn Phong Thủy (Động Thổ, Cất Nóc, Nhập Trạch).mp3\n"
     ]
    }
   ],
   "source": [
    "from pytube import Playlist\n",
    "from os import path\n",
    "from pydub import AudioSegment\n",
    "\n",
    "URL_PLAYLIST = \"https://youtu.be/playlist?list=PLmStOnZvdb1L-u6mwMb2wkwfJK5HIyTmx\"\n",
    "\n",
    "# Retrieve URLs of videos from playlist\n",
    "playlist = Playlist(URL_PLAYLIST)\n",
    "print('Number Of Videos In playlist: %s' % len(playlist.video_urls))\n",
    "\n",
    "urls = []\n",
    "for url in playlist:\n",
    "    download_ytvid_as_mp3(output_path=\"mp3_down\", video_url=url)\n"
   ]
  },
  {
   "cell_type": "code",
   "execution_count": 1,
   "metadata": {},
   "outputs": [
    {
     "name": "stdout",
     "output_type": "stream",
     "text": [
      "Collecting pydub\n",
      "  Downloading pydub-0.25.1-py2.py3-none-any.whl (32 kB)\n",
      "Installing collected packages: pydub\n",
      "Successfully installed pydub-0.25.1\n"
     ]
    }
   ],
   "source": [
    "#!pip install pydub"
   ]
  },
  {
   "cell_type": "code",
   "execution_count": 2,
   "metadata": {},
   "outputs": [
    {
     "name": "stdout",
     "output_type": "stream",
     "text": [
      "intput path: mp3_down/serteuhyrth.mp3\n",
      "Chuyển đổi hoàn thành.\n"
     ]
    }
   ],
   "source": [
    "import os\n",
    "from pydub import AudioSegment\n",
    "\n",
    "def convert_mp3_to_wav(input_folder, output_folder):\n",
    "    # Lặp qua tất cả các tập tin trong thư mục đầu vào\n",
    "    for filename in os.listdir(input_folder):\n",
    "        if filename.endswith(\".mp3\"):\n",
    "            input_path = os.path.join(input_folder, filename)\n",
    "            output_filename = os.path.splitext(filename)[0] + \".wav\"\n",
    "            output_path = os.path.join(output_folder, output_filename)\n",
    "            print(\"intput path: \"+ input_path)\n",
    "            try:\n",
    "                audio = AudioSegment.from_file(input_path)\n",
    "            except:\n",
    "                audio = AudioSegment.from_file(input_path, format=\"mp4\")\n",
    "            audio = audio.set_frame_rate(16000)\n",
    "            audio = audio.set_channels(1)\n",
    "            audio.export(output_path, format=\"wav\")\n",
    "\n",
    "    print(\"Chuyển đổi hoàn thành.\")\n",
    "\n",
    "# Đường dẫn tới thư mục chứa các tập tin âm thanh ban đầu\n",
    "input_folder_path = \"mp3_down\"\n",
    "\n",
    "# Đường dẫn tới thư mục để lưu các tập tin âm thanh mới sau khi chuyển đổi\n",
    "output_folder_path = \"wav_down\"\n",
    "\n",
    "# Gọi hàm để thực hiện chuyển đổi\n",
    "convert_mp3_to_wav(input_folder_path, output_folder_path)\n"
   ]
  },
  {
   "cell_type": "code",
   "execution_count": 3,
   "metadata": {},
   "outputs": [
    {
     "name": "stderr",
     "output_type": "stream",
     "text": [
      "/home/tungp/SESEARCH/T2S/MakeData/env/lib/python3.10/site-packages/tqdm/auto.py:21: TqdmWarning: IProgress not found. Please update jupyter and ipywidgets. See https://ipywidgets.readthedocs.io/en/stable/user_install.html\n",
      "  from .autonotebook import tqdm as notebook_tqdm\n",
      "/home/tungp/SESEARCH/T2S/MakeData/env/lib/python3.10/site-packages/noisereduce/noisereduce.py:183: RuntimeWarning: invalid value encountered in cast\n",
      "  filtered_chunk[:, pos : pos + end0 - start0] = filtered_chunk0[:, start0:end0]\n"
     ]
    }
   ],
   "source": [
    "from scipy.io import wavfile\n",
    "import noisereduce as nr\n",
    "# load data\n",
    "rate, data = wavfile.read(\"wav_down/serteuhyrth.wav\")\n",
    "# perform noise reduction\n",
    "reduced_noise = nr.reduce_noise(y=data, sr=rate)\n",
    "wavfile.write(\"mywav_reduced_noise.wav\", rate, reduced_noise)"
   ]
  }
 ],
 "metadata": {
  "kernelspec": {
   "display_name": "env",
   "language": "python",
   "name": "python3"
  },
  "language_info": {
   "codemirror_mode": {
    "name": "ipython",
    "version": 3
   },
   "file_extension": ".py",
   "mimetype": "text/x-python",
   "name": "python",
   "nbconvert_exporter": "python",
   "pygments_lexer": "ipython3",
   "version": "3.10.12"
  },
  "orig_nbformat": 4
 },
 "nbformat": 4,
 "nbformat_minor": 2
}
