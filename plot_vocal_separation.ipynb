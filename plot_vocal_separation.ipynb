{
  "cells": [
    {
      "cell_type": "code",
      "outputs": [],
      "source": [
        "%matplotlib inline"
      ],
      "execution_count": null,
      "metadata": {
        "collapsed": false
      }
    },
    {
      "cell_type": "markdown",
      "source": [
        "\n# Vocal separation\n\n\nThis notebook demonstrates a simple technique for separating vocals (and\nother sporadic foreground signals) from accompanying instrumentation.\n\nThis is based on the \"REPET-SIM\" method of `Rafii and Pardo, 2012\n<http://www.cs.northwestern.edu/~zra446/doc/Rafii-Pardo%20-%20Music-Voice%20Separation%20using%20the%20Similarity%20Matrix%20-%20ISMIR%202012.pdf>`_, but includes a couple of modifications and extensions:\n\n    - FFT windows overlap by 1/4, instead of 1/2\n    - Non-local filtering is converted into a soft mask by Wiener filtering.\n      This is similar in spirit to the soft-masking method used by `Fitzgerald, 2012\n      <http://arrow.dit.ie/cgi/viewcontent.cgi?article=1086&context=argcon>`_,\n      but is a bit more numerically stable in practice.\n\n"
      ],
      "metadata": {}
    },
    {
      "cell_type": "code",
      "outputs": [],
      "source": [
        "# Code source: Brian McFee\n# License: ISC\n\n##################\n# Standard imports\nfrom __future__ import print_function\nimport numpy as np\nimport matplotlib.pyplot as plt\nimport librosa\n\nimport librosa.display"
      ],
      "execution_count": null,
      "metadata": {
        "collapsed": false
      }
    },
    {
      "cell_type": "markdown",
      "source": [
        "Load an example with vocals.\n\n"
      ],
      "metadata": {}
    },
    {
      "cell_type": "code",
      "outputs": [],
      "source": [
        "y, sr = librosa.load('audio/Cheese_N_Pot-C_-_16_-_The_Raps_Well_Clean_Album_Version.mp3', duration=120)\n\n\n# And compute the spectrogram magnitude and phase\nS_full, phase = librosa.magphase(librosa.stft(y))"
      ],
      "execution_count": null,
      "metadata": {
        "collapsed": false
      }
    },
    {
      "cell_type": "markdown",
      "source": [
        "Plot a 5-second slice of the spectrum\n\n"
      ],
      "metadata": {}
    },
    {
      "cell_type": "code",
      "outputs": [],
      "source": [
        "idx = slice(*librosa.time_to_frames([30, 35], sr=sr))\nplt.figure(figsize=(12, 4))\nlibrosa.display.specshow(librosa.amplitude_to_db(S_full[:, idx], ref=np.max),\n                         y_axis='log', x_axis='time', sr=sr)\nplt.colorbar()\nplt.tight_layout()"
      ],
      "execution_count": null,
      "metadata": {
        "collapsed": false
      }
    },
    {
      "cell_type": "markdown",
      "source": [
        "The wiggly lines above are due to the vocal component.\nOur goal is to separate them from the accompanying\ninstrumentation.\n\n\n"
      ],
      "metadata": {}
    },
    {
      "cell_type": "code",
      "outputs": [],
      "source": [
        "# We'll compare frames using cosine similarity, and aggregate similar frames\n# by taking their (per-frequency) median value.\n#\n# To avoid being biased by local continuity, we constrain similar frames to be\n# separated by at least 2 seconds.\n#\n# This suppresses sparse/non-repetetitive deviations from the average spectrum,\n# and works well to discard vocal elements.\n\nS_filter = librosa.decompose.nn_filter(S_full,\n                                       aggregate=np.median,\n                                       metric='cosine',\n                                       width=int(librosa.time_to_frames(2, sr=sr)))\n\n# The output of the filter shouldn't be greater than the input\n# if we assume signals are additive.  Taking the pointwise minimium\n# with the input spectrum forces this.\nS_filter = np.minimum(S_full, S_filter)"
      ],
      "execution_count": null,
      "metadata": {
        "collapsed": false
      }
    },
    {
      "cell_type": "markdown",
      "source": [
        "The raw filter output can be used as a mask,\nbut it sounds better if we use soft-masking.\n\n"
      ],
      "metadata": {}
    },
    {
      "cell_type": "code",
      "outputs": [],
      "source": [
        "# We can also use a margin to reduce bleed between the vocals and instrumentation masks.\n# Note: the margins need not be equal for foreground and background separation\nmargin_i, margin_v = 2, 10\npower = 2\n\nmask_i = librosa.util.softmask(S_filter,\n                               margin_i * (S_full - S_filter),\n                               power=power)\n\nmask_v = librosa.util.softmask(S_full - S_filter,\n                               margin_v * S_filter,\n                               power=power)\n\n# Once we have the masks, simply multiply them with the input spectrum\n# to separate the components\n\nS_foreground = mask_v * S_full\nS_background = mask_i * S_full"
      ],
      "execution_count": null,
      "metadata": {
        "collapsed": false
      }
    },
    {
      "cell_type": "markdown",
      "source": [
        "Plot the same slice, but separated into its foreground and background\n\n"
      ],
      "metadata": {}
    },
    {
      "cell_type": "code",
      "outputs": [],
      "source": [
        "# sphinx_gallery_thumbnail_number = 2\n\nplt.figure(figsize=(12, 8))\nplt.subplot(3, 1, 1)\nlibrosa.display.specshow(librosa.amplitude_to_db(S_full[:, idx], ref=np.max),\n                         y_axis='log', sr=sr)\nplt.title('Full spectrum')\nplt.colorbar()\n\nplt.subplot(3, 1, 2)\nlibrosa.display.specshow(librosa.amplitude_to_db(S_background[:, idx], ref=np.max),\n                         y_axis='log', sr=sr)\nplt.title('Background')\nplt.colorbar()\nplt.subplot(3, 1, 3)\nlibrosa.display.specshow(librosa.amplitude_to_db(S_foreground[:, idx], ref=np.max),\n                         y_axis='log', x_axis='time', sr=sr)\nplt.title('Foreground')\nplt.colorbar()\nplt.tight_layout()\nplt.show()"
      ],
      "execution_count": null,
      "metadata": {
        "collapsed": false
      }
    }
  ],
  "nbformat": 4,
  "nbformat_minor": 0,
  "metadata": {
    "language_info": {
      "codemirror_mode": {
        "name": "ipython",
        "version": 3
      },
      "mimetype": "text/x-python",
      "name": "python",
      "version": "3.5.3",
      "file_extension": ".py",
      "nbconvert_exporter": "python",
      "pygments_lexer": "ipython3"
    },
    "kernelspec": {
      "name": "python3",
      "language": "python",
      "display_name": "Python 3"
    }
  }
}